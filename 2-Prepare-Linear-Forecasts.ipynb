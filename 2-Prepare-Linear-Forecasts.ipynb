{
 "cells": [
  {
   "cell_type": "code",
   "execution_count": 75,
   "metadata": {},
   "outputs": [],
   "source": [
    "import pandas as pd\n",
    "import numpy as np\n",
    "from sklearn.linear_model import LinearRegression"
   ]
  },
  {
   "cell_type": "code",
   "execution_count": 76,
   "metadata": {},
   "outputs": [],
   "source": [
    "# list of years for which to produce linear forecasts\n",
    "future_years = [2027, 2032, 2036, 2046, 2055]"
   ]
  },
  {
   "cell_type": "code",
   "execution_count": 77,
   "metadata": {},
   "outputs": [
    {
     "data": {
      "application/vnd.microsoft.datawrangler.viewer.v0+json": {
       "columns": [
        {
         "name": "index",
         "rawType": "int64",
         "type": "integer"
        },
        {
         "name": "pgName",
         "rawType": "object",
         "type": "string"
        },
        {
         "name": "pgYearFrom",
         "rawType": "int64",
         "type": "integer"
        },
        {
         "name": "pgYearTo",
         "rawType": "int64",
         "type": "integer"
        },
        {
         "name": "pgYearsExclude",
         "rawType": "object",
         "type": "unknown"
        }
       ],
       "conversionMethod": "pd.DataFrame",
       "ref": "c75101e1-77b8-48cf-99c7-4bc38c27f1cf",
       "rows": [
        [
         "0",
         "Since 1981",
         "1981",
         "2023",
         "{}"
        ],
        [
         "1",
         "Since 1982",
         "1982",
         "2023",
         "{}"
        ],
        [
         "2",
         "Since 1983",
         "1983",
         "2023",
         "{}"
        ],
        [
         "3",
         "Since 1984",
         "1984",
         "2023",
         "{}"
        ],
        [
         "4",
         "Since 1985",
         "1985",
         "2023",
         "{}"
        ],
        [
         "5",
         "Since 1986",
         "1986",
         "2023",
         "{}"
        ],
        [
         "6",
         "Since 1987",
         "1987",
         "2023",
         "{}"
        ],
        [
         "7",
         "Since 1988",
         "1988",
         "2023",
         "{}"
        ],
        [
         "8",
         "Since 1989",
         "1989",
         "2023",
         "{}"
        ],
        [
         "9",
         "Since 1990",
         "1990",
         "2023",
         "{}"
        ],
        [
         "10",
         "Since 1991",
         "1991",
         "2023",
         "{}"
        ],
        [
         "11",
         "Since 1992",
         "1992",
         "2023",
         "{}"
        ],
        [
         "12",
         "Since 1993",
         "1993",
         "2023",
         "{}"
        ],
        [
         "13",
         "Since 1994",
         "1994",
         "2023",
         "{}"
        ],
        [
         "14",
         "Since 1995",
         "1995",
         "2023",
         "{}"
        ],
        [
         "15",
         "Since 1996",
         "1996",
         "2023",
         "{}"
        ],
        [
         "16",
         "Since 1997",
         "1997",
         "2023",
         "{}"
        ],
        [
         "17",
         "Since 1998",
         "1998",
         "2023",
         "{}"
        ],
        [
         "18",
         "Since 1999",
         "1999",
         "2023",
         "{}"
        ],
        [
         "19",
         "Since 2000",
         "2000",
         "2023",
         "{}"
        ],
        [
         "20",
         "Since 2001",
         "2001",
         "2023",
         "{}"
        ],
        [
         "21",
         "Since 2002",
         "2002",
         "2023",
         "{}"
        ],
        [
         "22",
         "Since 2003",
         "2003",
         "2023",
         "{}"
        ],
        [
         "23",
         "Since 2004",
         "2004",
         "2023",
         "{}"
        ],
        [
         "24",
         "Since 2005",
         "2005",
         "2023",
         "{}"
        ],
        [
         "25",
         "Since 2006",
         "2006",
         "2023",
         "{}"
        ],
        [
         "26",
         "Since 2007",
         "2007",
         "2023",
         "{}"
        ],
        [
         "27",
         "Since 2008",
         "2008",
         "2023",
         "{}"
        ],
        [
         "28",
         "Since 2009",
         "2009",
         "2023",
         "{}"
        ],
        [
         "29",
         "Since 2010",
         "2010",
         "2023",
         "{}"
        ],
        [
         "30",
         "Since 2011",
         "2011",
         "2023",
         "{}"
        ],
        [
         "31",
         "Since 2012",
         "2012",
         "2023",
         "{}"
        ],
        [
         "32",
         "Since 2013",
         "2013",
         "2023",
         "{}"
        ],
        [
         "33",
         "Since 2014",
         "2014",
         "2023",
         "{}"
        ],
        [
         "34",
         "Since 2015",
         "2015",
         "2023",
         "{}"
        ],
        [
         "35",
         "Since 2016",
         "2016",
         "2023",
         "{}"
        ],
        [
         "36",
         "Since 2017",
         "2017",
         "2023",
         "{}"
        ],
        [
         "37",
         "Since 2018",
         "2018",
         "2023",
         "{}"
        ],
        [
         "38",
         "Since 2019",
         "2019",
         "2023",
         "{}"
        ],
        [
         "39",
         "Since 2020",
         "2020",
         "2023",
         "{}"
        ],
        [
         "40",
         "Since 2021",
         "2021",
         "2023",
         "{}"
        ],
        [
         "41",
         "Since 2022",
         "2022",
         "2023",
         "{}"
        ]
       ],
       "shape": {
        "columns": 4,
        "rows": 42
       }
      },
      "text/html": [
       "<div>\n",
       "<style scoped>\n",
       "    .dataframe tbody tr th:only-of-type {\n",
       "        vertical-align: middle;\n",
       "    }\n",
       "\n",
       "    .dataframe tbody tr th {\n",
       "        vertical-align: top;\n",
       "    }\n",
       "\n",
       "    .dataframe thead th {\n",
       "        text-align: right;\n",
       "    }\n",
       "</style>\n",
       "<table border=\"1\" class=\"dataframe\">\n",
       "  <thead>\n",
       "    <tr style=\"text-align: right;\">\n",
       "      <th></th>\n",
       "      <th>pgName</th>\n",
       "      <th>pgYearFrom</th>\n",
       "      <th>pgYearTo</th>\n",
       "      <th>pgYearsExclude</th>\n",
       "    </tr>\n",
       "  </thead>\n",
       "  <tbody>\n",
       "    <tr>\n",
       "      <th>0</th>\n",
       "      <td>Since 1981</td>\n",
       "      <td>1981</td>\n",
       "      <td>2023</td>\n",
       "      <td>{}</td>\n",
       "    </tr>\n",
       "    <tr>\n",
       "      <th>1</th>\n",
       "      <td>Since 1982</td>\n",
       "      <td>1982</td>\n",
       "      <td>2023</td>\n",
       "      <td>{}</td>\n",
       "    </tr>\n",
       "    <tr>\n",
       "      <th>2</th>\n",
       "      <td>Since 1983</td>\n",
       "      <td>1983</td>\n",
       "      <td>2023</td>\n",
       "      <td>{}</td>\n",
       "    </tr>\n",
       "    <tr>\n",
       "      <th>3</th>\n",
       "      <td>Since 1984</td>\n",
       "      <td>1984</td>\n",
       "      <td>2023</td>\n",
       "      <td>{}</td>\n",
       "    </tr>\n",
       "    <tr>\n",
       "      <th>4</th>\n",
       "      <td>Since 1985</td>\n",
       "      <td>1985</td>\n",
       "      <td>2023</td>\n",
       "      <td>{}</td>\n",
       "    </tr>\n",
       "    <tr>\n",
       "      <th>5</th>\n",
       "      <td>Since 1986</td>\n",
       "      <td>1986</td>\n",
       "      <td>2023</td>\n",
       "      <td>{}</td>\n",
       "    </tr>\n",
       "    <tr>\n",
       "      <th>6</th>\n",
       "      <td>Since 1987</td>\n",
       "      <td>1987</td>\n",
       "      <td>2023</td>\n",
       "      <td>{}</td>\n",
       "    </tr>\n",
       "    <tr>\n",
       "      <th>7</th>\n",
       "      <td>Since 1988</td>\n",
       "      <td>1988</td>\n",
       "      <td>2023</td>\n",
       "      <td>{}</td>\n",
       "    </tr>\n",
       "    <tr>\n",
       "      <th>8</th>\n",
       "      <td>Since 1989</td>\n",
       "      <td>1989</td>\n",
       "      <td>2023</td>\n",
       "      <td>{}</td>\n",
       "    </tr>\n",
       "    <tr>\n",
       "      <th>9</th>\n",
       "      <td>Since 1990</td>\n",
       "      <td>1990</td>\n",
       "      <td>2023</td>\n",
       "      <td>{}</td>\n",
       "    </tr>\n",
       "    <tr>\n",
       "      <th>10</th>\n",
       "      <td>Since 1991</td>\n",
       "      <td>1991</td>\n",
       "      <td>2023</td>\n",
       "      <td>{}</td>\n",
       "    </tr>\n",
       "    <tr>\n",
       "      <th>11</th>\n",
       "      <td>Since 1992</td>\n",
       "      <td>1992</td>\n",
       "      <td>2023</td>\n",
       "      <td>{}</td>\n",
       "    </tr>\n",
       "    <tr>\n",
       "      <th>12</th>\n",
       "      <td>Since 1993</td>\n",
       "      <td>1993</td>\n",
       "      <td>2023</td>\n",
       "      <td>{}</td>\n",
       "    </tr>\n",
       "    <tr>\n",
       "      <th>13</th>\n",
       "      <td>Since 1994</td>\n",
       "      <td>1994</td>\n",
       "      <td>2023</td>\n",
       "      <td>{}</td>\n",
       "    </tr>\n",
       "    <tr>\n",
       "      <th>14</th>\n",
       "      <td>Since 1995</td>\n",
       "      <td>1995</td>\n",
       "      <td>2023</td>\n",
       "      <td>{}</td>\n",
       "    </tr>\n",
       "    <tr>\n",
       "      <th>15</th>\n",
       "      <td>Since 1996</td>\n",
       "      <td>1996</td>\n",
       "      <td>2023</td>\n",
       "      <td>{}</td>\n",
       "    </tr>\n",
       "    <tr>\n",
       "      <th>16</th>\n",
       "      <td>Since 1997</td>\n",
       "      <td>1997</td>\n",
       "      <td>2023</td>\n",
       "      <td>{}</td>\n",
       "    </tr>\n",
       "    <tr>\n",
       "      <th>17</th>\n",
       "      <td>Since 1998</td>\n",
       "      <td>1998</td>\n",
       "      <td>2023</td>\n",
       "      <td>{}</td>\n",
       "    </tr>\n",
       "    <tr>\n",
       "      <th>18</th>\n",
       "      <td>Since 1999</td>\n",
       "      <td>1999</td>\n",
       "      <td>2023</td>\n",
       "      <td>{}</td>\n",
       "    </tr>\n",
       "    <tr>\n",
       "      <th>19</th>\n",
       "      <td>Since 2000</td>\n",
       "      <td>2000</td>\n",
       "      <td>2023</td>\n",
       "      <td>{}</td>\n",
       "    </tr>\n",
       "    <tr>\n",
       "      <th>20</th>\n",
       "      <td>Since 2001</td>\n",
       "      <td>2001</td>\n",
       "      <td>2023</td>\n",
       "      <td>{}</td>\n",
       "    </tr>\n",
       "    <tr>\n",
       "      <th>21</th>\n",
       "      <td>Since 2002</td>\n",
       "      <td>2002</td>\n",
       "      <td>2023</td>\n",
       "      <td>{}</td>\n",
       "    </tr>\n",
       "    <tr>\n",
       "      <th>22</th>\n",
       "      <td>Since 2003</td>\n",
       "      <td>2003</td>\n",
       "      <td>2023</td>\n",
       "      <td>{}</td>\n",
       "    </tr>\n",
       "    <tr>\n",
       "      <th>23</th>\n",
       "      <td>Since 2004</td>\n",
       "      <td>2004</td>\n",
       "      <td>2023</td>\n",
       "      <td>{}</td>\n",
       "    </tr>\n",
       "    <tr>\n",
       "      <th>24</th>\n",
       "      <td>Since 2005</td>\n",
       "      <td>2005</td>\n",
       "      <td>2023</td>\n",
       "      <td>{}</td>\n",
       "    </tr>\n",
       "    <tr>\n",
       "      <th>25</th>\n",
       "      <td>Since 2006</td>\n",
       "      <td>2006</td>\n",
       "      <td>2023</td>\n",
       "      <td>{}</td>\n",
       "    </tr>\n",
       "    <tr>\n",
       "      <th>26</th>\n",
       "      <td>Since 2007</td>\n",
       "      <td>2007</td>\n",
       "      <td>2023</td>\n",
       "      <td>{}</td>\n",
       "    </tr>\n",
       "    <tr>\n",
       "      <th>27</th>\n",
       "      <td>Since 2008</td>\n",
       "      <td>2008</td>\n",
       "      <td>2023</td>\n",
       "      <td>{}</td>\n",
       "    </tr>\n",
       "    <tr>\n",
       "      <th>28</th>\n",
       "      <td>Since 2009</td>\n",
       "      <td>2009</td>\n",
       "      <td>2023</td>\n",
       "      <td>{}</td>\n",
       "    </tr>\n",
       "    <tr>\n",
       "      <th>29</th>\n",
       "      <td>Since 2010</td>\n",
       "      <td>2010</td>\n",
       "      <td>2023</td>\n",
       "      <td>{}</td>\n",
       "    </tr>\n",
       "    <tr>\n",
       "      <th>30</th>\n",
       "      <td>Since 2011</td>\n",
       "      <td>2011</td>\n",
       "      <td>2023</td>\n",
       "      <td>{}</td>\n",
       "    </tr>\n",
       "    <tr>\n",
       "      <th>31</th>\n",
       "      <td>Since 2012</td>\n",
       "      <td>2012</td>\n",
       "      <td>2023</td>\n",
       "      <td>{}</td>\n",
       "    </tr>\n",
       "    <tr>\n",
       "      <th>32</th>\n",
       "      <td>Since 2013</td>\n",
       "      <td>2013</td>\n",
       "      <td>2023</td>\n",
       "      <td>{}</td>\n",
       "    </tr>\n",
       "    <tr>\n",
       "      <th>33</th>\n",
       "      <td>Since 2014</td>\n",
       "      <td>2014</td>\n",
       "      <td>2023</td>\n",
       "      <td>{}</td>\n",
       "    </tr>\n",
       "    <tr>\n",
       "      <th>34</th>\n",
       "      <td>Since 2015</td>\n",
       "      <td>2015</td>\n",
       "      <td>2023</td>\n",
       "      <td>{}</td>\n",
       "    </tr>\n",
       "    <tr>\n",
       "      <th>35</th>\n",
       "      <td>Since 2016</td>\n",
       "      <td>2016</td>\n",
       "      <td>2023</td>\n",
       "      <td>{}</td>\n",
       "    </tr>\n",
       "    <tr>\n",
       "      <th>36</th>\n",
       "      <td>Since 2017</td>\n",
       "      <td>2017</td>\n",
       "      <td>2023</td>\n",
       "      <td>{}</td>\n",
       "    </tr>\n",
       "    <tr>\n",
       "      <th>37</th>\n",
       "      <td>Since 2018</td>\n",
       "      <td>2018</td>\n",
       "      <td>2023</td>\n",
       "      <td>{}</td>\n",
       "    </tr>\n",
       "    <tr>\n",
       "      <th>38</th>\n",
       "      <td>Since 2019</td>\n",
       "      <td>2019</td>\n",
       "      <td>2023</td>\n",
       "      <td>{}</td>\n",
       "    </tr>\n",
       "    <tr>\n",
       "      <th>39</th>\n",
       "      <td>Since 2020</td>\n",
       "      <td>2020</td>\n",
       "      <td>2023</td>\n",
       "      <td>{}</td>\n",
       "    </tr>\n",
       "    <tr>\n",
       "      <th>40</th>\n",
       "      <td>Since 2021</td>\n",
       "      <td>2021</td>\n",
       "      <td>2023</td>\n",
       "      <td>{}</td>\n",
       "    </tr>\n",
       "    <tr>\n",
       "      <th>41</th>\n",
       "      <td>Since 2022</td>\n",
       "      <td>2022</td>\n",
       "      <td>2023</td>\n",
       "      <td>{}</td>\n",
       "    </tr>\n",
       "  </tbody>\n",
       "</table>\n",
       "</div>"
      ],
      "text/plain": [
       "        pgName  pgYearFrom  pgYearTo pgYearsExclude\n",
       "0   Since 1981        1981      2023             {}\n",
       "1   Since 1982        1982      2023             {}\n",
       "2   Since 1983        1983      2023             {}\n",
       "3   Since 1984        1984      2023             {}\n",
       "4   Since 1985        1985      2023             {}\n",
       "5   Since 1986        1986      2023             {}\n",
       "6   Since 1987        1987      2023             {}\n",
       "7   Since 1988        1988      2023             {}\n",
       "8   Since 1989        1989      2023             {}\n",
       "9   Since 1990        1990      2023             {}\n",
       "10  Since 1991        1991      2023             {}\n",
       "11  Since 1992        1992      2023             {}\n",
       "12  Since 1993        1993      2023             {}\n",
       "13  Since 1994        1994      2023             {}\n",
       "14  Since 1995        1995      2023             {}\n",
       "15  Since 1996        1996      2023             {}\n",
       "16  Since 1997        1997      2023             {}\n",
       "17  Since 1998        1998      2023             {}\n",
       "18  Since 1999        1999      2023             {}\n",
       "19  Since 2000        2000      2023             {}\n",
       "20  Since 2001        2001      2023             {}\n",
       "21  Since 2002        2002      2023             {}\n",
       "22  Since 2003        2003      2023             {}\n",
       "23  Since 2004        2004      2023             {}\n",
       "24  Since 2005        2005      2023             {}\n",
       "25  Since 2006        2006      2023             {}\n",
       "26  Since 2007        2007      2023             {}\n",
       "27  Since 2008        2008      2023             {}\n",
       "28  Since 2009        2009      2023             {}\n",
       "29  Since 2010        2010      2023             {}\n",
       "30  Since 2011        2011      2023             {}\n",
       "31  Since 2012        2012      2023             {}\n",
       "32  Since 2013        2013      2023             {}\n",
       "33  Since 2014        2014      2023             {}\n",
       "34  Since 2015        2015      2023             {}\n",
       "35  Since 2016        2016      2023             {}\n",
       "36  Since 2017        2017      2023             {}\n",
       "37  Since 2018        2018      2023             {}\n",
       "38  Since 2019        2019      2023             {}\n",
       "39  Since 2020        2020      2023             {}\n",
       "40  Since 2021        2021      2023             {}\n",
       "41  Since 2022        2022      2023             {}"
      ]
     },
     "metadata": {},
     "output_type": "display_data"
    }
   ],
   "source": [
    "# creage \n",
    "dfProjGroupsLinear = pd.DataFrame([\n",
    "    [\"Since 1981\"         , 1981, 2023,     {}],\n",
    "    [\"Since 1982\"         , 1982, 2023,     {}],\n",
    "    [\"Since 1983\"         , 1983, 2023,     {}],\n",
    "    [\"Since 1984\"         , 1984, 2023,     {}],\n",
    "    [\"Since 1985\"         , 1985, 2023,     {}],\n",
    "    [\"Since 1986\"         , 1986, 2023,     {}],\n",
    "    [\"Since 1987\"         , 1987, 2023,     {}],\n",
    "    [\"Since 1988\"         , 1988, 2023,     {}],\n",
    "    [\"Since 1989\"         , 1989, 2023,     {}],\n",
    "    [\"Since 1990\"         , 1990, 2023,     {}],\n",
    "    [\"Since 1991\"         , 1991, 2023,     {}],\n",
    "    [\"Since 1992\"         , 1992, 2023,     {}],\n",
    "    [\"Since 1993\"         , 1993, 2023,     {}],\n",
    "    [\"Since 1994\"         , 1994, 2023,     {}],\n",
    "    [\"Since 1995\"         , 1995, 2023,     {}],\n",
    "    [\"Since 1996\"         , 1996, 2023,     {}],\n",
    "    [\"Since 1997\"         , 1997, 2023,     {}],\n",
    "    [\"Since 1998\"         , 1998, 2023,     {}],\n",
    "    [\"Since 1999\"         , 1999, 2023,     {}],\n",
    "    [\"Since 2000\"         , 2000, 2023,     {}],\n",
    "    [\"Since 2001\"         , 2001, 2023,     {}],\n",
    "    [\"Since 2002\"         , 2002, 2023,     {}],\n",
    "    [\"Since 2003\"         , 2003, 2023,     {}],\n",
    "    [\"Since 2004\"         , 2004, 2023,     {}],\n",
    "    [\"Since 2005\"         , 2005, 2023,     {}],\n",
    "    [\"Since 2006\"         , 2006, 2023,     {}],\n",
    "    [\"Since 2007\"         , 2007, 2023,     {}],\n",
    "    [\"Since 2008\"         , 2008, 2023,     {}],\n",
    "    [\"Since 2009\"         , 2009, 2023,     {}],\n",
    "    [\"Since 2010\"         , 2010, 2023,     {}],\n",
    "    [\"Since 2011\"         , 2011, 2023,     {}],\n",
    "    [\"Since 2012\"         , 2012, 2023,     {}],\n",
    "    [\"Since 2013\"         , 2013, 2023,     {}],\n",
    "    [\"Since 2014\"         , 2014, 2023,     {}],\n",
    "    [\"Since 2015\"         , 2015, 2023,     {}],\n",
    "    [\"Since 2016\"         , 2016, 2023,     {}],\n",
    "    [\"Since 2017\"         , 2017, 2023,     {}],\n",
    "    [\"Since 2018\"         , 2018, 2023,     {}],\n",
    "    [\"Since 2019\"         , 2019, 2023,     {}],\n",
    "    [\"Since 2020\"         , 2020, 2023,     {}],\n",
    "    [\"Since 2021\"         , 2021, 2023,     {}],\n",
    "    [\"Since 2022\"         , 2022, 2023,     {}],\n",
    "#    [\"Since 2001 w/o 2020\", 2001, 2023, {2020}],\n",
    "#    [\"Since 2011 w/o 2020\", 2011, 2023, {2020}]\n",
    "], columns=('pgName','pgYearFrom','pgYearTo','pgYearsExclude'))\n",
    "\n",
    "display(dfProjGroupsLinear)"
   ]
  },
  {
   "cell_type": "code",
   "execution_count": 78,
   "metadata": {},
   "outputs": [
    {
     "data": {
      "application/vnd.microsoft.datawrangler.viewer.v0+json": {
       "columns": [
        {
         "name": "index",
         "rawType": "int64",
         "type": "integer"
        },
        {
         "name": "externalid",
         "rawType": "int32",
         "type": "integer"
        },
        {
         "name": "segid",
         "rawType": "string",
         "type": "string"
        },
        {
         "name": "year",
         "rawType": "int32",
         "type": "integer"
        },
        {
         "name": "AADT",
         "rawType": "int32",
         "type": "integer"
        }
       ],
       "conversionMethod": "pd.DataFrame",
       "ref": "ee9bfa99-6235-4a38-8ff4-9a0c5a05923a",
       "rows": [
        [
         "0",
         "3601",
         "1082_000.0",
         "2023",
         "817"
        ],
        [
         "1",
         "3601",
         "1082_000.0",
         "2022",
         "783"
        ],
        [
         "2",
         "3601",
         "1082_000.0",
         "2021",
         "792"
        ],
        [
         "3",
         "3601",
         "1082_000.0",
         "2020",
         "739"
        ],
        [
         "4",
         "3601",
         "1082_000.0",
         "2019",
         "740"
        ],
        [
         "5",
         "3601",
         "1082_000.0",
         "2018",
         "731"
        ],
        [
         "6",
         "3601",
         "1082_000.0",
         "2017",
         "703"
        ],
        [
         "7",
         "3601",
         "1082_000.0",
         "2016",
         "685"
        ],
        [
         "8",
         "3601",
         "1082_000.0",
         "2015",
         "655"
        ],
        [
         "9",
         "3601",
         "1082_000.0",
         "2014",
         "615"
        ],
        [
         "10",
         "3601",
         "1082_000.0",
         "2013",
         "605"
        ],
        [
         "11",
         "3601",
         "1082_000.0",
         "2012",
         "585"
        ],
        [
         "12",
         "3601",
         "1082_000.0",
         "2011",
         "510"
        ],
        [
         "13",
         "3601",
         "1082_000.0",
         "2010",
         "515"
        ],
        [
         "14",
         "3601",
         "1082_000.0",
         "2009",
         "505"
        ],
        [
         "15",
         "3601",
         "1082_000.0",
         "2008",
         "495"
        ],
        [
         "16",
         "3601",
         "1082_000.0",
         "2007",
         "510"
        ],
        [
         "17",
         "3601",
         "1082_000.0",
         "2006",
         "505"
        ],
        [
         "18",
         "3601",
         "1082_000.0",
         "2005",
         "465"
        ],
        [
         "19",
         "3601",
         "1082_000.0",
         "2004",
         "450"
        ],
        [
         "20",
         "3601",
         "1082_000.0",
         "2003",
         "428"
        ],
        [
         "21",
         "3602",
         "0013_006.5",
         "2023",
         "10884"
        ],
        [
         "22",
         "3602",
         "0013_006.5",
         "2022",
         "10435"
        ],
        [
         "23",
         "3602",
         "0013_006.5",
         "2021",
         "10551"
        ],
        [
         "24",
         "3602",
         "0013_006.5",
         "2020",
         "9842"
        ],
        [
         "25",
         "3602",
         "0013_006.5",
         "2019",
         "9852"
        ],
        [
         "26",
         "3602",
         "0013_006.5",
         "2018",
         "9735"
        ],
        [
         "27",
         "3602",
         "0013_006.5",
         "2017",
         "9361"
        ],
        [
         "28",
         "3602",
         "0013_006.5",
         "2016",
         "9124"
        ],
        [
         "29",
         "3602",
         "0013_006.5",
         "2015",
         "8700"
        ],
        [
         "30",
         "3602",
         "0013_006.5",
         "2014",
         "8215"
        ],
        [
         "31",
         "3602",
         "0013_006.5",
         "2013",
         "8085"
        ],
        [
         "32",
         "3602",
         "0013_006.5",
         "2012",
         "7820"
        ],
        [
         "33",
         "3602",
         "0013_006.5",
         "2011",
         "6590"
        ],
        [
         "34",
         "3602",
         "0013_006.5",
         "2010",
         "6885"
        ],
        [
         "35",
         "3602",
         "0013_006.5",
         "2009",
         "6760"
        ],
        [
         "36",
         "3602",
         "0013_006.5",
         "2008",
         "6640"
        ],
        [
         "37",
         "3602",
         "0013_006.5",
         "2007",
         "6815"
        ],
        [
         "38",
         "3602",
         "0013_006.5",
         "2006",
         "6775"
        ],
        [
         "39",
         "3602",
         "0013_006.5",
         "2005",
         "5920"
        ],
        [
         "40",
         "3602",
         "0013_006.5",
         "2004",
         "5735"
        ],
        [
         "41",
         "3602",
         "0013_006.5",
         "2003",
         "5485"
        ],
        [
         "42",
         "3602",
         "0013_006.5",
         "2002",
         "5585"
        ],
        [
         "43",
         "3602",
         "0013_006.5",
         "2001",
         "8445"
        ],
        [
         "44",
         "3602",
         "0013_006.5",
         "2000",
         "8363"
        ],
        [
         "45",
         "3602",
         "0013_006.5",
         "1999",
         "7965"
        ],
        [
         "46",
         "3602",
         "0013_006.5",
         "1998",
         "7690"
        ],
        [
         "47",
         "3602",
         "0013_006.5",
         "1997",
         "7485"
        ],
        [
         "48",
         "3602",
         "0013_006.5",
         "1996",
         "7200"
        ],
        [
         "49",
         "3602",
         "0013_006.5",
         "1995",
         "7200"
        ]
       ],
       "shape": {
        "columns": 4,
        "rows": 850
       }
      },
      "text/html": [
       "<div>\n",
       "<style scoped>\n",
       "    .dataframe tbody tr th:only-of-type {\n",
       "        vertical-align: middle;\n",
       "    }\n",
       "\n",
       "    .dataframe tbody tr th {\n",
       "        vertical-align: top;\n",
       "    }\n",
       "\n",
       "    .dataframe thead th {\n",
       "        text-align: right;\n",
       "    }\n",
       "</style>\n",
       "<table border=\"1\" class=\"dataframe\">\n",
       "  <thead>\n",
       "    <tr style=\"text-align: right;\">\n",
       "      <th></th>\n",
       "      <th>externalid</th>\n",
       "      <th>segid</th>\n",
       "      <th>year</th>\n",
       "      <th>AADT</th>\n",
       "    </tr>\n",
       "  </thead>\n",
       "  <tbody>\n",
       "    <tr>\n",
       "      <th>0</th>\n",
       "      <td>3601</td>\n",
       "      <td>1082_000.0</td>\n",
       "      <td>2023</td>\n",
       "      <td>817</td>\n",
       "    </tr>\n",
       "    <tr>\n",
       "      <th>1</th>\n",
       "      <td>3601</td>\n",
       "      <td>1082_000.0</td>\n",
       "      <td>2022</td>\n",
       "      <td>783</td>\n",
       "    </tr>\n",
       "    <tr>\n",
       "      <th>2</th>\n",
       "      <td>3601</td>\n",
       "      <td>1082_000.0</td>\n",
       "      <td>2021</td>\n",
       "      <td>792</td>\n",
       "    </tr>\n",
       "    <tr>\n",
       "      <th>3</th>\n",
       "      <td>3601</td>\n",
       "      <td>1082_000.0</td>\n",
       "      <td>2020</td>\n",
       "      <td>739</td>\n",
       "    </tr>\n",
       "    <tr>\n",
       "      <th>4</th>\n",
       "      <td>3601</td>\n",
       "      <td>1082_000.0</td>\n",
       "      <td>2019</td>\n",
       "      <td>740</td>\n",
       "    </tr>\n",
       "    <tr>\n",
       "      <th>...</th>\n",
       "      <td>...</td>\n",
       "      <td>...</td>\n",
       "      <td>...</td>\n",
       "      <td>...</td>\n",
       "    </tr>\n",
       "    <tr>\n",
       "      <th>845</th>\n",
       "      <td>3629</td>\n",
       "      <td>1826_004.9</td>\n",
       "      <td>2011</td>\n",
       "      <td>2555</td>\n",
       "    </tr>\n",
       "    <tr>\n",
       "      <th>846</th>\n",
       "      <td>3629</td>\n",
       "      <td>1826_004.9</td>\n",
       "      <td>2010</td>\n",
       "      <td>205</td>\n",
       "    </tr>\n",
       "    <tr>\n",
       "      <th>847</th>\n",
       "      <td>3629</td>\n",
       "      <td>1826_004.9</td>\n",
       "      <td>2009</td>\n",
       "      <td>200</td>\n",
       "    </tr>\n",
       "    <tr>\n",
       "      <th>848</th>\n",
       "      <td>3629</td>\n",
       "      <td>1826_004.9</td>\n",
       "      <td>2008</td>\n",
       "      <td>195</td>\n",
       "    </tr>\n",
       "    <tr>\n",
       "      <th>849</th>\n",
       "      <td>3629</td>\n",
       "      <td>1826_004.9</td>\n",
       "      <td>2007</td>\n",
       "      <td>200</td>\n",
       "    </tr>\n",
       "  </tbody>\n",
       "</table>\n",
       "<p>850 rows × 4 columns</p>\n",
       "</div>"
      ],
      "text/plain": [
       "     externalid       segid  year  AADT\n",
       "0          3601  1082_000.0  2023   817\n",
       "1          3601  1082_000.0  2022   783\n",
       "2          3601  1082_000.0  2021   792\n",
       "3          3601  1082_000.0  2020   739\n",
       "4          3601  1082_000.0  2019   740\n",
       "..          ...         ...   ...   ...\n",
       "845        3629  1826_004.9  2011  2555\n",
       "846        3629  1826_004.9  2010   205\n",
       "847        3629  1826_004.9  2009   200\n",
       "848        3629  1826_004.9  2008   195\n",
       "849        3629  1826_004.9  2007   200\n",
       "\n",
       "[850 rows x 4 columns]"
      ]
     },
     "execution_count": 78,
     "metadata": {},
     "output_type": "execute_result"
    }
   ],
   "source": [
    "# import historic AADT (created in previous jupyter notebook)\n",
    "dfHistoricAadt = pd.read_csv('intermediate/external-historic-aadt.csv', dtype={'externalid':'int','segid':'string','year':'int','AADT':'int'})\n",
    "dfHistoricAadt"
   ]
  },
  {
   "cell_type": "markdown",
   "metadata": {},
   "source": [
    "# Linear forecasts with assist from ChatGPT\n",
    "https://chat.openai.com/share/d127492a-ad78-4f45-afd0-50e29069db1a"
   ]
  },
  {
   "cell_type": "code",
   "execution_count": 79,
   "metadata": {},
   "outputs": [
    {
     "data": {
      "text/plain": [
       "'Forecasting Since 1981...'"
      ]
     },
     "metadata": {},
     "output_type": "display_data"
    },
    {
     "data": {
      "text/plain": [
       "'Forecasting Since 1982...'"
      ]
     },
     "metadata": {},
     "output_type": "display_data"
    },
    {
     "data": {
      "text/plain": [
       "'Forecasting Since 1983...'"
      ]
     },
     "metadata": {},
     "output_type": "display_data"
    },
    {
     "data": {
      "text/plain": [
       "'Forecasting Since 1984...'"
      ]
     },
     "metadata": {},
     "output_type": "display_data"
    },
    {
     "data": {
      "text/plain": [
       "'Forecasting Since 1985...'"
      ]
     },
     "metadata": {},
     "output_type": "display_data"
    },
    {
     "data": {
      "text/plain": [
       "'Forecasting Since 1986...'"
      ]
     },
     "metadata": {},
     "output_type": "display_data"
    },
    {
     "data": {
      "text/plain": [
       "'Forecasting Since 1987...'"
      ]
     },
     "metadata": {},
     "output_type": "display_data"
    },
    {
     "data": {
      "text/plain": [
       "'Forecasting Since 1988...'"
      ]
     },
     "metadata": {},
     "output_type": "display_data"
    },
    {
     "data": {
      "text/plain": [
       "'Forecasting Since 1989...'"
      ]
     },
     "metadata": {},
     "output_type": "display_data"
    },
    {
     "data": {
      "text/plain": [
       "'Forecasting Since 1990...'"
      ]
     },
     "metadata": {},
     "output_type": "display_data"
    },
    {
     "data": {
      "text/plain": [
       "'Forecasting Since 1991...'"
      ]
     },
     "metadata": {},
     "output_type": "display_data"
    },
    {
     "data": {
      "text/plain": [
       "'Forecasting Since 1992...'"
      ]
     },
     "metadata": {},
     "output_type": "display_data"
    },
    {
     "data": {
      "text/plain": [
       "'Forecasting Since 1993...'"
      ]
     },
     "metadata": {},
     "output_type": "display_data"
    },
    {
     "data": {
      "text/plain": [
       "'Forecasting Since 1994...'"
      ]
     },
     "metadata": {},
     "output_type": "display_data"
    },
    {
     "data": {
      "text/plain": [
       "'Forecasting Since 1995...'"
      ]
     },
     "metadata": {},
     "output_type": "display_data"
    },
    {
     "data": {
      "text/plain": [
       "'Forecasting Since 1996...'"
      ]
     },
     "metadata": {},
     "output_type": "display_data"
    },
    {
     "data": {
      "text/plain": [
       "'Forecasting Since 1997...'"
      ]
     },
     "metadata": {},
     "output_type": "display_data"
    },
    {
     "data": {
      "text/plain": [
       "'Forecasting Since 1998...'"
      ]
     },
     "metadata": {},
     "output_type": "display_data"
    },
    {
     "data": {
      "text/plain": [
       "'Forecasting Since 1999...'"
      ]
     },
     "metadata": {},
     "output_type": "display_data"
    },
    {
     "data": {
      "text/plain": [
       "'Forecasting Since 2000...'"
      ]
     },
     "metadata": {},
     "output_type": "display_data"
    },
    {
     "data": {
      "text/plain": [
       "'Forecasting Since 2001...'"
      ]
     },
     "metadata": {},
     "output_type": "display_data"
    },
    {
     "data": {
      "text/plain": [
       "'Forecasting Since 2002...'"
      ]
     },
     "metadata": {},
     "output_type": "display_data"
    },
    {
     "data": {
      "text/plain": [
       "'Forecasting Since 2003...'"
      ]
     },
     "metadata": {},
     "output_type": "display_data"
    },
    {
     "data": {
      "text/plain": [
       "'Forecasting Since 2004...'"
      ]
     },
     "metadata": {},
     "output_type": "display_data"
    },
    {
     "data": {
      "text/plain": [
       "'Forecasting Since 2005...'"
      ]
     },
     "metadata": {},
     "output_type": "display_data"
    },
    {
     "data": {
      "text/plain": [
       "'Forecasting Since 2006...'"
      ]
     },
     "metadata": {},
     "output_type": "display_data"
    },
    {
     "data": {
      "text/plain": [
       "'Forecasting Since 2007...'"
      ]
     },
     "metadata": {},
     "output_type": "display_data"
    },
    {
     "data": {
      "text/plain": [
       "'Forecasting Since 2008...'"
      ]
     },
     "metadata": {},
     "output_type": "display_data"
    },
    {
     "data": {
      "text/plain": [
       "'Forecasting Since 2009...'"
      ]
     },
     "metadata": {},
     "output_type": "display_data"
    },
    {
     "data": {
      "text/plain": [
       "'Forecasting Since 2010...'"
      ]
     },
     "metadata": {},
     "output_type": "display_data"
    },
    {
     "data": {
      "text/plain": [
       "'Forecasting Since 2011...'"
      ]
     },
     "metadata": {},
     "output_type": "display_data"
    },
    {
     "data": {
      "text/plain": [
       "'Forecasting Since 2012...'"
      ]
     },
     "metadata": {},
     "output_type": "display_data"
    },
    {
     "data": {
      "text/plain": [
       "'Forecasting Since 2013...'"
      ]
     },
     "metadata": {},
     "output_type": "display_data"
    },
    {
     "data": {
      "text/plain": [
       "'Forecasting Since 2014...'"
      ]
     },
     "metadata": {},
     "output_type": "display_data"
    },
    {
     "data": {
      "text/plain": [
       "'Forecasting Since 2015...'"
      ]
     },
     "metadata": {},
     "output_type": "display_data"
    },
    {
     "data": {
      "text/plain": [
       "'Forecasting Since 2016...'"
      ]
     },
     "metadata": {},
     "output_type": "display_data"
    },
    {
     "data": {
      "text/plain": [
       "'Forecasting Since 2017...'"
      ]
     },
     "metadata": {},
     "output_type": "display_data"
    },
    {
     "data": {
      "text/plain": [
       "'Forecasting Since 2018...'"
      ]
     },
     "metadata": {},
     "output_type": "display_data"
    },
    {
     "data": {
      "text/plain": [
       "'Forecasting Since 2019...'"
      ]
     },
     "metadata": {},
     "output_type": "display_data"
    },
    {
     "data": {
      "text/plain": [
       "'Forecasting Since 2020...'"
      ]
     },
     "metadata": {},
     "output_type": "display_data"
    },
    {
     "data": {
      "text/plain": [
       "'Forecasting Since 2021...'"
      ]
     },
     "metadata": {},
     "output_type": "display_data"
    },
    {
     "data": {
      "text/plain": [
       "'Forecasting Since 2022...'"
      ]
     },
     "metadata": {},
     "output_type": "display_data"
    }
   ],
   "source": [
    "# Initialize a list to store the individual result DataFrames\n",
    "forecast_results_list = []\n",
    "\n",
    "# Open the error file\n",
    "with open('intermediate/linear-forecasts-errors.txt', 'w') as err_file:\n",
    "    # Loop through the projection groups\n",
    "    for index, row in dfProjGroupsLinear.iterrows():\n",
    "        pgName = row['pgName']\n",
    "        pgYearFrom = row['pgYearFrom']\n",
    "        pgYearTo = row['pgYearTo']\n",
    "        pgYearsExclude = set(row['pgYearsExclude'])\n",
    "        \n",
    "        display('Forecasting ' + pgName + '...')\n",
    "\n",
    "        # Group by SEGID and SOURCE and iterate through the groups\n",
    "        for (externalid, segid), group in dfHistoricAadt.groupby(['externalid', 'segid']):\n",
    "            \n",
    "            # Filter the data according to the projection group criteria\n",
    "            filtered_group = group[(group['year'] >= pgYearFrom) & (group['year'] <= pgYearTo)]\n",
    "            filtered_group = filtered_group[~filtered_group['year'].isin(pgYearsExclude)]\n",
    "            \n",
    "            # Check if the filtered group is empty\n",
    "            if filtered_group.shape[0] == 0:\n",
    "                error_msg = f\"Skipping empty group for externalid: {externalid}, segid: {segid}, Projection Group: {pgName}\"\n",
    "                print (error_msg)\n",
    "                err_file.write(error_msg + f\"\\n\")\n",
    "                continue\n",
    "\n",
    "            X = filtered_group['year'].values.reshape(-1, 1)\n",
    "            y = filtered_group['AADT'].values\n",
    "\n",
    "            model = LinearRegression()\n",
    "            model.fit(X, y)\n",
    "            \n",
    "            # Predict for the specified future years\n",
    "            aadt = model.predict(np.array([pgYearFrom] + future_years).reshape(-1, 1))\n",
    "\n",
    "            # Round the forecasted values to the nearest integers\n",
    "            aadt = np.rint(aadt).astype(int)\n",
    "\n",
    "            # Create a dictionary to store results for this group\n",
    "            result_dict = {'externalid': externalid, 'segid': segid, 'PROJ_GRP': pgName}\n",
    "            result_dict.update({year: aadt for year, aadt in zip([pgYearFrom] + future_years, aadt)})\n",
    "\n",
    "            # Convert the dictionary to a DataFrame and add to the list\n",
    "            result_df = pd.DataFrame([result_dict])\n",
    "\n",
    "            result_df_melt = result_df.melt(id_vars=['externalid','segid','PROJ_GRP'],var_name=\"year\", value_name=\"LIN_FORECAST\")\n",
    "\n",
    "            forecast_results_list.append(result_df_melt)\n",
    "\n",
    "# Concatenate all the individual result DataFrames\n",
    "forecast_results = pd.concat(forecast_results_list, ignore_index=True)\n",
    "\n",
    "# Now forecast_results contains the forecasts for the specified future years, along with ROUTE_ID, FROM_MEASURE, To_MEASURE, and Projection Group\n",
    "#display(forecast_results)\n"
   ]
  },
  {
   "cell_type": "code",
   "execution_count": 80,
   "metadata": {},
   "outputs": [
    {
     "data": {
      "application/vnd.microsoft.datawrangler.viewer.v0+json": {
       "columns": [
        {
         "name": "index",
         "rawType": "int64",
         "type": "integer"
        },
        {
         "name": "externalid",
         "rawType": "int32",
         "type": "integer"
        },
        {
         "name": "segid",
         "rawType": "object",
         "type": "string"
        },
        {
         "name": "PROJ_GRP",
         "rawType": "object",
         "type": "string"
        },
        {
         "name": "year",
         "rawType": "object",
         "type": "unknown"
        },
        {
         "name": "LIN_FORECAST",
         "rawType": "int32",
         "type": "integer"
        }
       ],
       "conversionMethod": "pd.DataFrame",
       "ref": "05a29aba-2a83-4f8b-8990-abc8815dda61",
       "rows": [
        [
         "0",
         "3601",
         "1082_000.0",
         "Since 1981",
         "1981",
         "-26"
        ],
        [
         "1",
         "3601",
         "1082_000.0",
         "Since 1981",
         "2027",
         "890"
        ],
        [
         "2",
         "3601",
         "1082_000.0",
         "Since 1981",
         "2032",
         "989"
        ],
        [
         "3",
         "3601",
         "1082_000.0",
         "Since 1981",
         "2036",
         "1069"
        ],
        [
         "4",
         "3601",
         "1082_000.0",
         "Since 1981",
         "2046",
         "1268"
        ],
        [
         "5",
         "3601",
         "1082_000.0",
         "Since 1981",
         "2055",
         "1447"
        ],
        [
         "6",
         "3602",
         "0013_006.5",
         "Since 1981",
         "1981",
         "3875"
        ],
        [
         "7",
         "3602",
         "0013_006.5",
         "Since 1981",
         "2027",
         "10557"
        ],
        [
         "8",
         "3602",
         "0013_006.5",
         "Since 1981",
         "2032",
         "11284"
        ],
        [
         "9",
         "3602",
         "0013_006.5",
         "Since 1981",
         "2036",
         "11865"
        ],
        [
         "10",
         "3602",
         "0013_006.5",
         "Since 1981",
         "2046",
         "13318"
        ],
        [
         "11",
         "3602",
         "0013_006.5",
         "Since 1981",
         "2055",
         "14625"
        ],
        [
         "12",
         "3603",
         "1112_000.0",
         "Since 1981",
         "1981",
         "-515"
        ],
        [
         "13",
         "3603",
         "1112_000.0",
         "Since 1981",
         "2027",
         "1719"
        ],
        [
         "14",
         "3603",
         "1112_000.0",
         "Since 1981",
         "2032",
         "1962"
        ],
        [
         "15",
         "3603",
         "1112_000.0",
         "Since 1981",
         "2036",
         "2156"
        ],
        [
         "16",
         "3603",
         "1112_000.0",
         "Since 1981",
         "2046",
         "2642"
        ],
        [
         "17",
         "3603",
         "1112_000.0",
         "Since 1981",
         "2055",
         "3079"
        ],
        [
         "18",
         "3604",
         "0015_368.1",
         "Since 1981",
         "1981",
         "9852"
        ],
        [
         "19",
         "3604",
         "0015_368.1",
         "Since 1981",
         "2027",
         "32376"
        ],
        [
         "20",
         "3604",
         "0015_368.1",
         "Since 1981",
         "2032",
         "34825"
        ],
        [
         "21",
         "3604",
         "0015_368.1",
         "Since 1981",
         "2036",
         "36783"
        ],
        [
         "22",
         "3604",
         "0015_368.1",
         "Since 1981",
         "2046",
         "41680"
        ],
        [
         "23",
         "3604",
         "0015_368.1",
         "Since 1981",
         "2055",
         "46087"
        ],
        [
         "24",
         "3605",
         "0038_003.2",
         "Since 1981",
         "1981",
         "2016"
        ],
        [
         "25",
         "3605",
         "0038_003.2",
         "Since 1981",
         "2027",
         "3790"
        ],
        [
         "26",
         "3605",
         "0038_003.2",
         "Since 1981",
         "2032",
         "3983"
        ],
        [
         "27",
         "3605",
         "0038_003.2",
         "Since 1981",
         "2036",
         "4137"
        ],
        [
         "28",
         "3605",
         "0038_003.2",
         "Since 1981",
         "2046",
         "4522"
        ],
        [
         "29",
         "3605",
         "0038_003.2",
         "Since 1981",
         "2055",
         "4869"
        ],
        [
         "30",
         "3606",
         "0091_010.1",
         "Since 1981",
         "1981",
         "6511"
        ],
        [
         "31",
         "3606",
         "0091_010.1",
         "Since 1981",
         "2027",
         "22804"
        ],
        [
         "32",
         "3606",
         "0091_010.1",
         "Since 1981",
         "2032",
         "24575"
        ],
        [
         "33",
         "3606",
         "0091_010.1",
         "Since 1981",
         "2036",
         "25992"
        ],
        [
         "34",
         "3606",
         "0091_010.1",
         "Since 1981",
         "2046",
         "29534"
        ],
        [
         "35",
         "3606",
         "0091_010.1",
         "Since 1981",
         "2055",
         "32722"
        ],
        [
         "36",
         "3607",
         "3462_002.8",
         "Since 1981",
         "1981",
         "4635"
        ],
        [
         "37",
         "3607",
         "3462_002.8",
         "Since 1981",
         "2027",
         "1228"
        ],
        [
         "38",
         "3607",
         "3462_002.8",
         "Since 1981",
         "2032",
         "858"
        ],
        [
         "39",
         "3607",
         "3462_002.8",
         "Since 1981",
         "2036",
         "562"
        ],
        [
         "40",
         "3607",
         "3462_002.8",
         "Since 1981",
         "2046",
         "-179"
        ],
        [
         "41",
         "3607",
         "3462_002.8",
         "Since 1981",
         "2055",
         "-846"
        ],
        [
         "42",
         "3608",
         "0039_008.7",
         "Since 1981",
         "1981",
         "6054"
        ],
        [
         "43",
         "3608",
         "0039_008.7",
         "Since 1981",
         "2027",
         "9261"
        ],
        [
         "44",
         "3608",
         "0039_008.7",
         "Since 1981",
         "2032",
         "9609"
        ],
        [
         "45",
         "3608",
         "0039_008.7",
         "Since 1981",
         "2036",
         "9888"
        ],
        [
         "46",
         "3608",
         "0039_008.7",
         "Since 1981",
         "2046",
         "10585"
        ],
        [
         "47",
         "3608",
         "0039_008.7",
         "Since 1981",
         "2055",
         "11212"
        ],
        [
         "48",
         "3609",
         "0084_087.8",
         "Since 1981",
         "1981",
         "1474"
        ],
        [
         "49",
         "3609",
         "0084_087.8",
         "Since 1981",
         "2027",
         "25317"
        ]
       ],
       "shape": {
        "columns": 5,
        "rows": 5796
       }
      },
      "text/html": [
       "<div>\n",
       "<style scoped>\n",
       "    .dataframe tbody tr th:only-of-type {\n",
       "        vertical-align: middle;\n",
       "    }\n",
       "\n",
       "    .dataframe tbody tr th {\n",
       "        vertical-align: top;\n",
       "    }\n",
       "\n",
       "    .dataframe thead th {\n",
       "        text-align: right;\n",
       "    }\n",
       "</style>\n",
       "<table border=\"1\" class=\"dataframe\">\n",
       "  <thead>\n",
       "    <tr style=\"text-align: right;\">\n",
       "      <th></th>\n",
       "      <th>externalid</th>\n",
       "      <th>segid</th>\n",
       "      <th>PROJ_GRP</th>\n",
       "      <th>year</th>\n",
       "      <th>LIN_FORECAST</th>\n",
       "    </tr>\n",
       "  </thead>\n",
       "  <tbody>\n",
       "    <tr>\n",
       "      <th>0</th>\n",
       "      <td>3601</td>\n",
       "      <td>1082_000.0</td>\n",
       "      <td>Since 1981</td>\n",
       "      <td>1981</td>\n",
       "      <td>-26</td>\n",
       "    </tr>\n",
       "    <tr>\n",
       "      <th>1</th>\n",
       "      <td>3601</td>\n",
       "      <td>1082_000.0</td>\n",
       "      <td>Since 1981</td>\n",
       "      <td>2027</td>\n",
       "      <td>890</td>\n",
       "    </tr>\n",
       "    <tr>\n",
       "      <th>2</th>\n",
       "      <td>3601</td>\n",
       "      <td>1082_000.0</td>\n",
       "      <td>Since 1981</td>\n",
       "      <td>2032</td>\n",
       "      <td>989</td>\n",
       "    </tr>\n",
       "    <tr>\n",
       "      <th>3</th>\n",
       "      <td>3601</td>\n",
       "      <td>1082_000.0</td>\n",
       "      <td>Since 1981</td>\n",
       "      <td>2036</td>\n",
       "      <td>1069</td>\n",
       "    </tr>\n",
       "    <tr>\n",
       "      <th>4</th>\n",
       "      <td>3601</td>\n",
       "      <td>1082_000.0</td>\n",
       "      <td>Since 1981</td>\n",
       "      <td>2046</td>\n",
       "      <td>1268</td>\n",
       "    </tr>\n",
       "    <tr>\n",
       "      <th>...</th>\n",
       "      <td>...</td>\n",
       "      <td>...</td>\n",
       "      <td>...</td>\n",
       "      <td>...</td>\n",
       "      <td>...</td>\n",
       "    </tr>\n",
       "    <tr>\n",
       "      <th>5791</th>\n",
       "      <td>3629</td>\n",
       "      <td>1826_004.9</td>\n",
       "      <td>Since 2022</td>\n",
       "      <td>2027</td>\n",
       "      <td>4065</td>\n",
       "    </tr>\n",
       "    <tr>\n",
       "      <th>5792</th>\n",
       "      <td>3629</td>\n",
       "      <td>1826_004.9</td>\n",
       "      <td>Since 2022</td>\n",
       "      <td>2032</td>\n",
       "      <td>4785</td>\n",
       "    </tr>\n",
       "    <tr>\n",
       "      <th>5793</th>\n",
       "      <td>3629</td>\n",
       "      <td>1826_004.9</td>\n",
       "      <td>Since 2022</td>\n",
       "      <td>2036</td>\n",
       "      <td>5361</td>\n",
       "    </tr>\n",
       "    <tr>\n",
       "      <th>5794</th>\n",
       "      <td>3629</td>\n",
       "      <td>1826_004.9</td>\n",
       "      <td>Since 2022</td>\n",
       "      <td>2046</td>\n",
       "      <td>6801</td>\n",
       "    </tr>\n",
       "    <tr>\n",
       "      <th>5795</th>\n",
       "      <td>3629</td>\n",
       "      <td>1826_004.9</td>\n",
       "      <td>Since 2022</td>\n",
       "      <td>2055</td>\n",
       "      <td>8097</td>\n",
       "    </tr>\n",
       "  </tbody>\n",
       "</table>\n",
       "<p>5796 rows × 5 columns</p>\n",
       "</div>"
      ],
      "text/plain": [
       "      externalid       segid    PROJ_GRP  year  LIN_FORECAST\n",
       "0           3601  1082_000.0  Since 1981  1981           -26\n",
       "1           3601  1082_000.0  Since 1981  2027           890\n",
       "2           3601  1082_000.0  Since 1981  2032           989\n",
       "3           3601  1082_000.0  Since 1981  2036          1069\n",
       "4           3601  1082_000.0  Since 1981  2046          1268\n",
       "...          ...         ...         ...   ...           ...\n",
       "5791        3629  1826_004.9  Since 2022  2027          4065\n",
       "5792        3629  1826_004.9  Since 2022  2032          4785\n",
       "5793        3629  1826_004.9  Since 2022  2036          5361\n",
       "5794        3629  1826_004.9  Since 2022  2046          6801\n",
       "5795        3629  1826_004.9  Since 2022  2055          8097\n",
       "\n",
       "[5796 rows x 5 columns]"
      ]
     },
     "execution_count": 80,
     "metadata": {},
     "output_type": "execute_result"
    }
   ],
   "source": [
    "# check a snippet\n",
    "forecast_results"
   ]
  },
  {
   "cell_type": "code",
   "execution_count": 81,
   "metadata": {},
   "outputs": [],
   "source": [
    "# export csv\n",
    "forecast_results.to_csv('results/linear-forecasts.csv', index=False)"
   ]
  }
 ],
 "metadata": {
  "kernelspec": {
   "display_name": "march2024",
   "language": "python",
   "name": "python3"
  },
  "language_info": {
   "codemirror_mode": {
    "name": "ipython",
    "version": 3
   },
   "file_extension": ".py",
   "mimetype": "text/x-python",
   "name": "python",
   "nbconvert_exporter": "python",
   "pygments_lexer": "ipython3",
   "version": "3.9.19"
  },
  "orig_nbformat": 4
 },
 "nbformat": 4,
 "nbformat_minor": 2
}
