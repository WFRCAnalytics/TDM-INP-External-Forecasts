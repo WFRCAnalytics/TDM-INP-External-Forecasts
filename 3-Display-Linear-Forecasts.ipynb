{
 "cells": [
  {
   "cell_type": "code",
   "execution_count": 52,
   "metadata": {},
   "outputs": [],
   "source": [
    "import ipywidgets as widgets\n",
    "from IPython.display import display\n",
    "import pandas as pd\n",
    "import plotly.express as px"
   ]
  },
  {
   "cell_type": "code",
   "execution_count": 53,
   "metadata": {},
   "outputs": [],
   "source": [
    "# load data from previous notebooks\n",
    "aadt_df = pd.read_csv('intermediate/external-historic-aadt.csv')\n",
    "linear_forecast_df = pd.read_csv('results/linear-forecasts.csv')\n",
    "externals_df = pd.read_csv('params/externals.csv')"
   ]
  },
  {
   "cell_type": "markdown",
   "metadata": {},
   "source": [
    "Create interactive chart with assist from ChatGPT: https://chat.openai.com/share/496c1584-22b6-4c72-9815-395e11718907"
   ]
  },
  {
   "cell_type": "code",
   "execution_count": 54,
   "metadata": {},
   "outputs": [
    {
     "data": {
      "application/vnd.jupyter.widget-view+json": {
       "model_id": "1507400ead894e9d838e3fe44966c87d",
       "version_major": 2,
       "version_minor": 0
      },
      "text/plain": [
       "HBox(children=(Dropdown(description='external:', options=('Ext # 3601 - FAR-1082 Bird Refuge', 'Ext # 3602 - S…"
      ]
     },
     "metadata": {},
     "output_type": "display_data"
    },
    {
     "data": {
      "application/vnd.jupyter.widget-view+json": {
       "model_id": "7438865d2b154b8db21ad131790131d0",
       "version_major": 2,
       "version_minor": 0
      },
      "text/plain": [
       "Output()"
      ]
     },
     "metadata": {},
     "output_type": "display_data"
    },
    {
     "data": {
      "application/vnd.jupyter.widget-view+json": {
       "model_id": "3b44e18489094f378fc758bf2d239f6a",
       "version_major": 2,
       "version_minor": 0
      },
      "text/plain": [
       "Output()"
      ]
     },
     "metadata": {},
     "output_type": "display_data"
    }
   ],
   "source": [
    "# MAKE INTERACTIVE CHART\n",
    "\n",
    "# Create a lookup dictionary\n",
    "name_lookup = externals_df.set_index('externalid')['name'].to_dict()\n",
    "\n",
    "# Map names to the forecast df\n",
    "linear_forecast_df['name'] = linear_forecast_df['externalid'].map(name_lookup)\n",
    "\n",
    "# Build the final string\n",
    "linear_forecast_df['external'] = (\n",
    "    'Ext # ' +\n",
    "    linear_forecast_df['externalid'].fillna(0).astype(int).astype(str) +\n",
    "    ' - ' +\n",
    "    linear_forecast_df['name'].fillna('')\n",
    ")\n",
    "\n",
    "# Map names to the forecast df\n",
    "aadt_df['name'] = aadt_df['externalid'].map(name_lookup)\n",
    "\n",
    "# Build the final string\n",
    "aadt_df['external'] = (\n",
    "    'Ext # ' +\n",
    "    aadt_df['externalid'].fillna(0).astype(int).astype(str) +\n",
    "    ' - ' +\n",
    "    aadt_df['name'].fillna('')\n",
    ")\n",
    "\n",
    "# Create a dropdown widget for external selection\n",
    "external_widget = widgets.Dropdown(\n",
    "    options=linear_forecast_df['external'].unique().tolist(),\n",
    "    description='external:',\n",
    "    disabled=False\n",
    ")\n",
    "\n",
    "projgrp_widget = widgets.SelectMultiple(\n",
    "    options=linear_forecast_df['PROJ_GRP'].unique(),\n",
    "    description='Proj Groups:',\n",
    "    disabled=False\n",
    ")\n",
    "\n",
    "# Display function\n",
    "def plot_data(external, projgrp):\n",
    "\n",
    "    output.clear_output()\n",
    "    global firstTime\n",
    "   \n",
    "    if firstTime:\n",
    "        firstTime = False\n",
    "    else:\n",
    "        filteredlinear_forecast_df = linear_forecast_df[(linear_forecast_df['external'] == external) & (linear_forecast_df['PROJ_GRP'].isin(projgrp))]\n",
    "        filteredaadt_df = aadt_df[(aadt_df['external'] == external)]\n",
    "        fig = px.line(filteredlinear_forecast_df, x='year', y='LIN_FORECAST', color='PROJ_GRP',\n",
    "                    title=f'Linear Forecast for {external}',\n",
    "                    labels={'LIN_FORECAST': 'AADT', 'year': 'Year'},\n",
    "                    markers=True) \n",
    "        fig.update_traces(line=dict(dash='dash'))\n",
    "        fig.update_traces(marker=dict(size=20))\n",
    "    \n",
    "        # Adding the scatter plot from dfHistoricAADT\n",
    "        fig.add_scatter(x=filteredaadt_df['year'], y=filteredaadt_df['AADT'], mode='markers', \n",
    "                        marker=dict(size=10, color='darkgrey', symbol='circle'), name='Historic AADT')\n",
    "        \n",
    "        fig.update_layout(height=500)\n",
    "        fig.update_xaxes(range=[1980, 2055+2])\n",
    "\n",
    "        max_LinF = linear_forecast_df[(linear_forecast_df['external'] == external)]['LIN_FORECAST'].max()\n",
    "        max_Aadt = filteredaadt_df['AADT'].max()\n",
    "        overall_max = max(max_LinF, max_Aadt)\n",
    "        fig.update_yaxes(range=[0,overall_max+1000])\n",
    "\n",
    "        fig.show()\n",
    "        \n",
    "# to keep VS CODE from duplicating chart images use global firstTime\n",
    "firstTime = True\n",
    "\n",
    "# create output widget to display filtered DataFrame\n",
    "output = widgets.Output()\n",
    "hbox = widgets.HBox([external_widget, projgrp_widget])\n",
    "\n",
    "# create interactive widget\n",
    "interactive_output = widgets.interactive_output(plot_data, {'external': external_widget, 'projgrp': projgrp_widget})\n",
    "\n",
    "# Display a markdown heading\n",
    "display(hbox)\n",
    "display(interactive_output)\n",
    "display(output)\n",
    "    "
   ]
  },
  {
   "cell_type": "code",
   "execution_count": null,
   "metadata": {},
   "outputs": [],
   "source": [
    "selected_forecast_df = pd.DataFrame([\n",
    "    [3601, 'Since 2003'],\n",
    "    [3602, 'Since 2002'],\n",
    "    [3603, 'Since 2014'],\n",
    "    [3604, 'Since 2011'],\n",
    "    [3605, 'Since 2021'],\n",
    "    [3606, 'Since 2011'],\n",
    "    [3607, 'Since 2007'],\n",
    "    [3608, 'Since 2014'],\n",
    "    [3609, 'Since 2011'],\n",
    "    [3610, ''],\n",
    "    [3611, ''],\n",
    "    [3612, 'Since 2009'],\n",
    "    [3613, 'Since 2009'],\n",
    "    [3614, 'Since 2006'],\n",
    "    [3615, 'Since 2007'],\n",
    "    [3616, 'Since 2006'],\n",
    "    [3617, 'Since 2011'],\n",
    "    [3618, 'Since 2007'],\n",
    "    [3619, ''],\n",
    "    [3620, 'Since 2006'],\n",
    "    [3621, ''],\n",
    "    [3622, ''],\n",
    "    [3623, 'Since 2001'],\n",
    "    [3624, 'Since 2017'],\n",
    "    [3625, ''],\n",
    "    [3626, 'Since 2007'],\n",
    "    [3627, ''],\n",
    "    [3628, 'Since 2007'],\n",
    "    [3629, 'Since 2011']\n",
    "], columns=['externalid','selected_linear_forecast'])\n"
   ]
  },
  {
   "cell_type": "markdown",
   "metadata": {},
   "source": [
    "A few Wastach Front Model Externals\n",
    "\n",
    "- I-80 MP 98.8 to 101.8\n",
    "- I-80 MP 136.4 to 139.7\n"
   ]
  }
 ],
 "metadata": {
  "kernelspec": {
   "display_name": "march2024",
   "language": "python",
   "name": "python3"
  },
  "language_info": {
   "codemirror_mode": {
    "name": "ipython",
    "version": 3
   },
   "file_extension": ".py",
   "mimetype": "text/x-python",
   "name": "python",
   "nbconvert_exporter": "python",
   "pygments_lexer": "ipython3",
   "version": "3.9.19"
  },
  "orig_nbformat": 4
 },
 "nbformat": 4,
 "nbformat_minor": 2
}
