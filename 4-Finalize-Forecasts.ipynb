{
 "cells": [
  {
   "cell_type": "code",
   "execution_count": 23,
   "metadata": {},
   "outputs": [],
   "source": [
    "import ipywidgets as widgets\n",
    "from IPython.display import display\n",
    "import pandas as pd\n",
    "import plotly.express as px"
   ]
  },
  {
   "cell_type": "code",
   "execution_count": 24,
   "metadata": {},
   "outputs": [],
   "source": [
    "# load data from previous notebooks\n",
    "aadt_df = pd.read_csv('intermediate/external-historic-aadt.csv')\n",
    "linear_forecast_df = pd.read_csv('results/linear-forecasts.csv')\n",
    "externals_df = pd.read_csv('params/externals.csv')\n",
    "previous_forecasts_df = pd.read_csv('intermediate/previous-forecasts.csv')"
   ]
  },
  {
   "cell_type": "markdown",
   "metadata": {},
   "source": [
    "Create interactive chart with assist from ChatGPT: https://chat.openai.com/share/496c1584-22b6-4c72-9815-395e11718907"
   ]
  },
  {
   "cell_type": "code",
   "execution_count": 27,
   "metadata": {},
   "outputs": [
    {
     "data": {
      "application/vnd.jupyter.widget-view+json": {
       "model_id": "6123fda0d0c4476eae7f606200739769",
       "version_major": 2,
       "version_minor": 0
      },
      "text/plain": [
       "HBox(children=(Dropdown(description='external:', options=('Ext # 3601 - FAR-1082 Bird Refuge', 'Ext # 3602 - S…"
      ]
     },
     "metadata": {},
     "output_type": "display_data"
    },
    {
     "data": {
      "application/vnd.jupyter.widget-view+json": {
       "model_id": "670631f0cf844a5da2408dfe6b655ca6",
       "version_major": 2,
       "version_minor": 0
      },
      "text/plain": [
       "Output()"
      ]
     },
     "metadata": {},
     "output_type": "display_data"
    },
    {
     "data": {
      "application/vnd.jupyter.widget-view+json": {
       "model_id": "9db38dded6c740439a68762c7268645b",
       "version_major": 2,
       "version_minor": 0
      },
      "text/plain": [
       "Output()"
      ]
     },
     "metadata": {},
     "output_type": "display_data"
    }
   ],
   "source": [
    "# MAKE INTERACTIVE CHART\n",
    "\n",
    "# Create a lookup dictionary\n",
    "name_lookup = externals_df.set_index('externalid')['name'].to_dict()\n",
    "\n",
    "# Map names to the forecast df\n",
    "linear_forecast_df['name'] = linear_forecast_df['externalid'].map(name_lookup)\n",
    "\n",
    "# Build the final string\n",
    "linear_forecast_df['external'] = (\n",
    "    'Ext # ' +\n",
    "    linear_forecast_df['externalid'].fillna(0).astype(int).astype(str) +\n",
    "    ' - ' +\n",
    "    linear_forecast_df['name'].fillna('')\n",
    ")\n",
    "\n",
    "# Map names to the forecast df\n",
    "previous_forecasts_df['name'] = previous_forecasts_df['externalid'].map(name_lookup)\n",
    "\n",
    "# Build the final string\n",
    "previous_forecasts_df['external'] = (\n",
    "    'Ext # ' +\n",
    "    previous_forecasts_df['externalid'].fillna(0).astype(int).astype(str) +\n",
    "    ' - ' +\n",
    "    previous_forecasts_df['name'].fillna('')\n",
    ")\n",
    "\n",
    "# Map names to the forecast df\n",
    "aadt_df['name'] = aadt_df['externalid'].map(name_lookup)\n",
    "\n",
    "# Build the final string\n",
    "aadt_df['external'] = (\n",
    "    'Ext # ' +\n",
    "    aadt_df['externalid'].fillna(0).astype(int).astype(str) +\n",
    "    ' - ' +\n",
    "    aadt_df['name'].fillna('')\n",
    ")\n",
    "\n",
    "# Create a dropdown widget for external selection\n",
    "external_widget = widgets.Dropdown(\n",
    "    options=linear_forecast_df['external'].unique().tolist(),\n",
    "    description='external:',\n",
    "    disabled=False\n",
    ")\n",
    "\n",
    "projgrp_widget = widgets.SelectMultiple(\n",
    "    options=linear_forecast_df['PROJ_GRP'].unique(),\n",
    "    description='Proj Groups:',\n",
    "    disabled=False\n",
    ")\n",
    "\n",
    "# Display function\n",
    "def plot_data(external, projgrp):\n",
    "\n",
    "    output.clear_output()\n",
    "    global firstTime\n",
    "   \n",
    "    if firstTime:\n",
    "        firstTime = False\n",
    "    else:\n",
    "        filteredlinear_forecast_df = linear_forecast_df[(linear_forecast_df['external'] == external) & (linear_forecast_df['PROJ_GRP'].isin(projgrp))]\n",
    "        filteredaadt_df = aadt_df[(aadt_df['external'] == external)]\n",
    "        filteredprevious_forecast_df = previous_forecasts_df[(previous_forecasts_df['external'] == external)]\n",
    "        fig = px.line(filteredlinear_forecast_df, x='year', y='LIN_FORECAST', color='PROJ_GRP',\n",
    "                    title=f'Linear Forecast for {external}',\n",
    "                    labels={'LIN_FORECAST': 'AADT', 'year': 'Year'},\n",
    "                    markers=True) \n",
    "        fig.update_traces(line=dict(dash='dash'))\n",
    "        fig.update_traces(marker=dict(size=20))\n",
    "    \n",
    "        # Adding the scatter plot from dfHistoricAADT\n",
    "        fig.add_scatter(x=filteredaadt_df['year'], y=filteredaadt_df['AADT'], mode='markers', \n",
    "                        marker=dict(size=10, color='darkgrey', symbol='circle'), name='Historic AADT')\n",
    "        \n",
    "        fig.update_layout(height=500)\n",
    "        fig.update_xaxes(range=[1980, 2055+2])\n",
    "\n",
    "        max_LinF = linear_forecast_df[(linear_forecast_df['external'] == external)]['LIN_FORECAST'].max()\n",
    "        max_Aadt = filteredaadt_df['AADT'].max()\n",
    "        overall_max = max(max_LinF, max_Aadt)\n",
    "        fig.update_yaxes(range=[0,overall_max+1000])\n",
    "    \n",
    "        # Adding the scatter plot from dfHistoricAADT\n",
    "        fig.add_scatter(x=filteredprevious_forecast_df['year'], y=filteredprevious_forecast_df['AADT'], mode='markers', \n",
    "                        marker=dict(size=10, color='orange', symbol='circle'), name='v9.0 Forecast')\n",
    "                                    \n",
    "        fig.show()\n",
    "        \n",
    "# to keep VS CODE from duplicating chart images use global firstTime\n",
    "firstTime = True\n",
    "\n",
    "# create output widget to display filtered DataFrame\n",
    "output = widgets.Output()\n",
    "hbox = widgets.HBox([external_widget, projgrp_widget])\n",
    "\n",
    "# create interactive widget\n",
    "interactive_output = widgets.interactive_output(plot_data, {'external': external_widget, 'projgrp': projgrp_widget})\n",
    "\n",
    "# Display a markdown heading\n",
    "display(hbox)\n",
    "display(interactive_output)\n",
    "display(output)\n",
    "    "
   ]
  },
  {
   "cell_type": "code",
   "execution_count": null,
   "metadata": {},
   "outputs": [
    {
     "data": {
      "application/vnd.microsoft.datawrangler.viewer.v0+json": {
       "columns": [
        {
         "name": "index",
         "rawType": "int64",
         "type": "integer"
        },
        {
         "name": "externalid",
         "rawType": "int64",
         "type": "integer"
        },
        {
         "name": "PROJ_GRP",
         "rawType": "object",
         "type": "string"
        },
        {
         "name": "segid",
         "rawType": "object",
         "type": "string"
        },
        {
         "name": "year",
         "rawType": "int64",
         "type": "integer"
        },
        {
         "name": "LIN_FORECAST",
         "rawType": "int64",
         "type": "integer"
        },
        {
         "name": "name",
         "rawType": "object",
         "type": "string"
        },
        {
         "name": "external",
         "rawType": "object",
         "type": "string"
        }
       ],
       "conversionMethod": "pd.DataFrame",
       "ref": "fd3a1ee1-975c-468a-af4c-d82d6d3493e5",
       "rows": [
        [
         "0",
         "3601",
         "Since 2003",
         "1082_000.0",
         "2003",
         "412",
         "FAR-1082 Bird Refuge",
         "Ext # 3601 - FAR-1082 Bird Refuge"
        ],
        [
         "1",
         "3601",
         "Since 2003",
         "1082_000.0",
         "2027",
         "890",
         "FAR-1082 Bird Refuge",
         "Ext # 3601 - FAR-1082 Bird Refuge"
        ],
        [
         "2",
         "3601",
         "Since 2003",
         "1082_000.0",
         "2032",
         "989",
         "FAR-1082 Bird Refuge",
         "Ext # 3601 - FAR-1082 Bird Refuge"
        ],
        [
         "3",
         "3601",
         "Since 2003",
         "1082_000.0",
         "2036",
         "1069",
         "FAR-1082 Bird Refuge",
         "Ext # 3601 - FAR-1082 Bird Refuge"
        ],
        [
         "4",
         "3601",
         "Since 2003",
         "1082_000.0",
         "2046",
         "1268",
         "FAR-1082 Bird Refuge",
         "Ext # 3601 - FAR-1082 Bird Refuge"
        ],
        [
         "5",
         "3601",
         "Since 2003",
         "1082_000.0",
         "2055",
         "1447",
         "FAR-1082 Bird Refuge",
         "Ext # 3601 - FAR-1082 Bird Refuge"
        ],
        [
         "6",
         "3602",
         "Since 2002",
         "0013_006.5",
         "2002",
         "5184",
         "SR-13/83 to Corinne",
         "Ext # 3602 - SR-13/83 to Corinne"
        ],
        [
         "7",
         "3602",
         "Since 2002",
         "0013_006.5",
         "2027",
         "11867",
         "SR-13/83 to Corinne",
         "Ext # 3602 - SR-13/83 to Corinne"
        ],
        [
         "8",
         "3602",
         "Since 2002",
         "0013_006.5",
         "2032",
         "13203",
         "SR-13/83 to Corinne",
         "Ext # 3602 - SR-13/83 to Corinne"
        ],
        [
         "9",
         "3602",
         "Since 2002",
         "0013_006.5",
         "2036",
         "14272",
         "SR-13/83 to Corinne",
         "Ext # 3602 - SR-13/83 to Corinne"
        ],
        [
         "10",
         "3602",
         "Since 2002",
         "0013_006.5",
         "2046",
         "16945",
         "SR-13/83 to Corinne",
         "Ext # 3602 - SR-13/83 to Corinne"
        ],
        [
         "11",
         "3602",
         "Since 2002",
         "0013_006.5",
         "2055",
         "19351",
         "SR-13/83 to Corinne",
         "Ext # 3602 - SR-13/83 to Corinne"
        ],
        [
         "12",
         "3603",
         "Since 2019",
         "1112_000.0",
         "2019",
         "1393",
         "FAR-1112 to Bear River",
         "Ext # 3603 - FAR-1112 to Bear River"
        ],
        [
         "13",
         "3603",
         "Since 2019",
         "1112_000.0",
         "2027",
         "1473",
         "FAR-1112 to Bear River",
         "Ext # 3603 - FAR-1112 to Bear River"
        ],
        [
         "14",
         "3603",
         "Since 2019",
         "1112_000.0",
         "2032",
         "1523",
         "FAR-1112 to Bear River",
         "Ext # 3603 - FAR-1112 to Bear River"
        ],
        [
         "15",
         "3603",
         "Since 2019",
         "1112_000.0",
         "2036",
         "1563",
         "FAR-1112 to Bear River",
         "Ext # 3603 - FAR-1112 to Bear River"
        ],
        [
         "16",
         "3603",
         "Since 2019",
         "1112_000.0",
         "2046",
         "1663",
         "FAR-1112 to Bear River",
         "Ext # 3603 - FAR-1112 to Bear River"
        ],
        [
         "17",
         "3603",
         "Since 2019",
         "1112_000.0",
         "2055",
         "1753",
         "FAR-1112 to Bear River",
         "Ext # 3603 - FAR-1112 to Bear River"
        ],
        [
         "18",
         "3604",
         "Since 2011",
         "0015_368.1",
         "2011",
         "22111",
         "I-15 to Tremonton",
         "Ext # 3604 - I-15 to Tremonton"
        ],
        [
         "19",
         "3604",
         "Since 2011",
         "0015_368.1",
         "2027",
         "32834",
         "I-15 to Tremonton",
         "Ext # 3604 - I-15 to Tremonton"
        ],
        [
         "20",
         "3604",
         "Since 2011",
         "0015_368.1",
         "2032",
         "36185",
         "I-15 to Tremonton",
         "Ext # 3604 - I-15 to Tremonton"
        ],
        [
         "21",
         "3604",
         "Since 2011",
         "0015_368.1",
         "2036",
         "38866",
         "I-15 to Tremonton",
         "Ext # 3604 - I-15 to Tremonton"
        ],
        [
         "22",
         "3604",
         "Since 2011",
         "0015_368.1",
         "2046",
         "45567",
         "I-15 to Tremonton",
         "Ext # 3604 - I-15 to Tremonton"
        ],
        [
         "23",
         "3604",
         "Since 2011",
         "0015_368.1",
         "2055",
         "51599",
         "I-15 to Tremonton",
         "Ext # 3604 - I-15 to Tremonton"
        ],
        [
         "24",
         "3605",
         "Since 2021",
         "0038_003.2",
         "2021",
         "3669",
         "SR-38 to Riverside",
         "Ext # 3605 - SR-38 to Riverside"
        ],
        [
         "25",
         "3605",
         "Since 2021",
         "0038_003.2",
         "2027",
         "3933",
         "SR-38 to Riverside",
         "Ext # 3605 - SR-38 to Riverside"
        ],
        [
         "26",
         "3605",
         "Since 2021",
         "0038_003.2",
         "2032",
         "4153",
         "SR-38 to Riverside",
         "Ext # 3605 - SR-38 to Riverside"
        ],
        [
         "27",
         "3605",
         "Since 2021",
         "0038_003.2",
         "2036",
         "4329",
         "SR-38 to Riverside",
         "Ext # 3605 - SR-38 to Riverside"
        ],
        [
         "28",
         "3605",
         "Since 2021",
         "0038_003.2",
         "2046",
         "4769",
         "SR-38 to Riverside",
         "Ext # 3605 - SR-38 to Riverside"
        ],
        [
         "29",
         "3605",
         "Since 2021",
         "0038_003.2",
         "2055",
         "5165",
         "SR-38 to Riverside",
         "Ext # 3605 - SR-38 to Riverside"
        ],
        [
         "30",
         "3606",
         "Since 2011",
         "0091_010.1",
         "2011",
         "16239",
         "SR-91 to Logan",
         "Ext # 3606 - SR-91 to Logan"
        ],
        [
         "31",
         "3606",
         "Since 2011",
         "0091_010.1",
         "2027",
         "23248",
         "SR-91 to Logan",
         "Ext # 3606 - SR-91 to Logan"
        ],
        [
         "32",
         "3606",
         "Since 2011",
         "0091_010.1",
         "2032",
         "25439",
         "SR-91 to Logan",
         "Ext # 3606 - SR-91 to Logan"
        ],
        [
         "33",
         "3606",
         "Since 2011",
         "0091_010.1",
         "2036",
         "27191",
         "SR-91 to Logan",
         "Ext # 3606 - SR-91 to Logan"
        ],
        [
         "34",
         "3606",
         "Since 2011",
         "0091_010.1",
         "2046",
         "31572",
         "SR-91 to Logan",
         "Ext # 3606 - SR-91 to Logan"
        ],
        [
         "35",
         "3606",
         "Since 2011",
         "0091_010.1",
         "2055",
         "35515",
         "SR-91 to Logan",
         "Ext # 3606 - SR-91 to Logan"
        ],
        [
         "36",
         "3607",
         "Since 2007",
         "3462_002.8",
         "2007",
         "1527",
         "FAR-3462 N Ogden Pass",
         "Ext # 3607 - FAR-3462 N Ogden Pass"
        ],
        [
         "37",
         "3607",
         "Since 2007",
         "3462_002.8",
         "2027",
         "2403",
         "FAR-3462 N Ogden Pass",
         "Ext # 3607 - FAR-3462 N Ogden Pass"
        ],
        [
         "38",
         "3607",
         "Since 2007",
         "3462_002.8",
         "2032",
         "2622",
         "FAR-3462 N Ogden Pass",
         "Ext # 3607 - FAR-3462 N Ogden Pass"
        ],
        [
         "39",
         "3607",
         "Since 2007",
         "3462_002.8",
         "2036",
         "2798",
         "FAR-3462 N Ogden Pass",
         "Ext # 3607 - FAR-3462 N Ogden Pass"
        ],
        [
         "40",
         "3607",
         "Since 2007",
         "3462_002.8",
         "2046",
         "3236",
         "FAR-3462 N Ogden Pass",
         "Ext # 3607 - FAR-3462 N Ogden Pass"
        ],
        [
         "41",
         "3607",
         "Since 2007",
         "3462_002.8",
         "2055",
         "3630",
         "FAR-3462 N Ogden Pass",
         "Ext # 3607 - FAR-3462 N Ogden Pass"
        ],
        [
         "42",
         "3608",
         "Since 2014",
         "0039_008.7",
         "2014",
         "8019",
         "SR-39 Ogden Canyon",
         "Ext # 3608 - SR-39 Ogden Canyon"
        ],
        [
         "43",
         "3608",
         "Since 2014",
         "0039_008.7",
         "2027",
         "9929",
         "SR-39 Ogden Canyon",
         "Ext # 3608 - SR-39 Ogden Canyon"
        ],
        [
         "44",
         "3608",
         "Since 2014",
         "0039_008.7",
         "2032",
         "10664",
         "SR-39 Ogden Canyon",
         "Ext # 3608 - SR-39 Ogden Canyon"
        ],
        [
         "45",
         "3608",
         "Since 2014",
         "0039_008.7",
         "2036",
         "11251",
         "SR-39 Ogden Canyon",
         "Ext # 3608 - SR-39 Ogden Canyon"
        ],
        [
         "46",
         "3608",
         "Since 2014",
         "0039_008.7",
         "2046",
         "12721",
         "SR-39 Ogden Canyon",
         "Ext # 3608 - SR-39 Ogden Canyon"
        ],
        [
         "47",
         "3608",
         "Since 2014",
         "0039_008.7",
         "2055",
         "14043",
         "SR-39 Ogden Canyon",
         "Ext # 3608 - SR-39 Ogden Canyon"
        ],
        [
         "48",
         "3609",
         "Since 2011",
         "0084_087.8",
         "2011",
         "17979",
         "I-84 to Summit",
         "Ext # 3609 - I-84 to Summit"
        ],
        [
         "49",
         "3609",
         "Since 2011",
         "0084_087.8",
         "2027",
         "25329",
         "I-84 to Summit",
         "Ext # 3609 - I-84 to Summit"
        ]
       ],
       "shape": {
        "columns": 7,
        "rows": 138
       }
      },
      "text/html": [
       "<div>\n",
       "<style scoped>\n",
       "    .dataframe tbody tr th:only-of-type {\n",
       "        vertical-align: middle;\n",
       "    }\n",
       "\n",
       "    .dataframe tbody tr th {\n",
       "        vertical-align: top;\n",
       "    }\n",
       "\n",
       "    .dataframe thead th {\n",
       "        text-align: right;\n",
       "    }\n",
       "</style>\n",
       "<table border=\"1\" class=\"dataframe\">\n",
       "  <thead>\n",
       "    <tr style=\"text-align: right;\">\n",
       "      <th></th>\n",
       "      <th>externalid</th>\n",
       "      <th>PROJ_GRP</th>\n",
       "      <th>segid</th>\n",
       "      <th>year</th>\n",
       "      <th>LIN_FORECAST</th>\n",
       "      <th>name</th>\n",
       "      <th>external</th>\n",
       "    </tr>\n",
       "  </thead>\n",
       "  <tbody>\n",
       "    <tr>\n",
       "      <th>0</th>\n",
       "      <td>3601</td>\n",
       "      <td>Since 2003</td>\n",
       "      <td>1082_000.0</td>\n",
       "      <td>2003</td>\n",
       "      <td>412</td>\n",
       "      <td>FAR-1082 Bird Refuge</td>\n",
       "      <td>Ext # 3601 - FAR-1082 Bird Refuge</td>\n",
       "    </tr>\n",
       "    <tr>\n",
       "      <th>1</th>\n",
       "      <td>3601</td>\n",
       "      <td>Since 2003</td>\n",
       "      <td>1082_000.0</td>\n",
       "      <td>2027</td>\n",
       "      <td>890</td>\n",
       "      <td>FAR-1082 Bird Refuge</td>\n",
       "      <td>Ext # 3601 - FAR-1082 Bird Refuge</td>\n",
       "    </tr>\n",
       "    <tr>\n",
       "      <th>2</th>\n",
       "      <td>3601</td>\n",
       "      <td>Since 2003</td>\n",
       "      <td>1082_000.0</td>\n",
       "      <td>2032</td>\n",
       "      <td>989</td>\n",
       "      <td>FAR-1082 Bird Refuge</td>\n",
       "      <td>Ext # 3601 - FAR-1082 Bird Refuge</td>\n",
       "    </tr>\n",
       "    <tr>\n",
       "      <th>3</th>\n",
       "      <td>3601</td>\n",
       "      <td>Since 2003</td>\n",
       "      <td>1082_000.0</td>\n",
       "      <td>2036</td>\n",
       "      <td>1069</td>\n",
       "      <td>FAR-1082 Bird Refuge</td>\n",
       "      <td>Ext # 3601 - FAR-1082 Bird Refuge</td>\n",
       "    </tr>\n",
       "    <tr>\n",
       "      <th>4</th>\n",
       "      <td>3601</td>\n",
       "      <td>Since 2003</td>\n",
       "      <td>1082_000.0</td>\n",
       "      <td>2046</td>\n",
       "      <td>1268</td>\n",
       "      <td>FAR-1082 Bird Refuge</td>\n",
       "      <td>Ext # 3601 - FAR-1082 Bird Refuge</td>\n",
       "    </tr>\n",
       "    <tr>\n",
       "      <th>...</th>\n",
       "      <td>...</td>\n",
       "      <td>...</td>\n",
       "      <td>...</td>\n",
       "      <td>...</td>\n",
       "      <td>...</td>\n",
       "      <td>...</td>\n",
       "      <td>...</td>\n",
       "    </tr>\n",
       "    <tr>\n",
       "      <th>133</th>\n",
       "      <td>3629</td>\n",
       "      <td>Since 2011</td>\n",
       "      <td>1826_004.9</td>\n",
       "      <td>2027</td>\n",
       "      <td>3823</td>\n",
       "      <td>FAR-1826 South Ridge Farms</td>\n",
       "      <td>Ext # 3629 - FAR-1826 South Ridge Farms</td>\n",
       "    </tr>\n",
       "    <tr>\n",
       "      <th>134</th>\n",
       "      <td>3629</td>\n",
       "      <td>Since 2011</td>\n",
       "      <td>1826_004.9</td>\n",
       "      <td>2032</td>\n",
       "      <td>4248</td>\n",
       "      <td>FAR-1826 South Ridge Farms</td>\n",
       "      <td>Ext # 3629 - FAR-1826 South Ridge Farms</td>\n",
       "    </tr>\n",
       "    <tr>\n",
       "      <th>135</th>\n",
       "      <td>3629</td>\n",
       "      <td>Since 2011</td>\n",
       "      <td>1826_004.9</td>\n",
       "      <td>2036</td>\n",
       "      <td>4588</td>\n",
       "      <td>FAR-1826 South Ridge Farms</td>\n",
       "      <td>Ext # 3629 - FAR-1826 South Ridge Farms</td>\n",
       "    </tr>\n",
       "    <tr>\n",
       "      <th>136</th>\n",
       "      <td>3629</td>\n",
       "      <td>Since 2011</td>\n",
       "      <td>1826_004.9</td>\n",
       "      <td>2046</td>\n",
       "      <td>5437</td>\n",
       "      <td>FAR-1826 South Ridge Farms</td>\n",
       "      <td>Ext # 3629 - FAR-1826 South Ridge Farms</td>\n",
       "    </tr>\n",
       "    <tr>\n",
       "      <th>137</th>\n",
       "      <td>3629</td>\n",
       "      <td>Since 2011</td>\n",
       "      <td>1826_004.9</td>\n",
       "      <td>2055</td>\n",
       "      <td>6202</td>\n",
       "      <td>FAR-1826 South Ridge Farms</td>\n",
       "      <td>Ext # 3629 - FAR-1826 South Ridge Farms</td>\n",
       "    </tr>\n",
       "  </tbody>\n",
       "</table>\n",
       "<p>138 rows × 7 columns</p>\n",
       "</div>"
      ],
      "text/plain": [
       "     externalid    PROJ_GRP       segid  year  LIN_FORECAST  \\\n",
       "0          3601  Since 2003  1082_000.0  2003           412   \n",
       "1          3601  Since 2003  1082_000.0  2027           890   \n",
       "2          3601  Since 2003  1082_000.0  2032           989   \n",
       "3          3601  Since 2003  1082_000.0  2036          1069   \n",
       "4          3601  Since 2003  1082_000.0  2046          1268   \n",
       "..          ...         ...         ...   ...           ...   \n",
       "133        3629  Since 2011  1826_004.9  2027          3823   \n",
       "134        3629  Since 2011  1826_004.9  2032          4248   \n",
       "135        3629  Since 2011  1826_004.9  2036          4588   \n",
       "136        3629  Since 2011  1826_004.9  2046          5437   \n",
       "137        3629  Since 2011  1826_004.9  2055          6202   \n",
       "\n",
       "                           name                                 external  \n",
       "0          FAR-1082 Bird Refuge        Ext # 3601 - FAR-1082 Bird Refuge  \n",
       "1          FAR-1082 Bird Refuge        Ext # 3601 - FAR-1082 Bird Refuge  \n",
       "2          FAR-1082 Bird Refuge        Ext # 3601 - FAR-1082 Bird Refuge  \n",
       "3          FAR-1082 Bird Refuge        Ext # 3601 - FAR-1082 Bird Refuge  \n",
       "4          FAR-1082 Bird Refuge        Ext # 3601 - FAR-1082 Bird Refuge  \n",
       "..                          ...                                      ...  \n",
       "133  FAR-1826 South Ridge Farms  Ext # 3629 - FAR-1826 South Ridge Farms  \n",
       "134  FAR-1826 South Ridge Farms  Ext # 3629 - FAR-1826 South Ridge Farms  \n",
       "135  FAR-1826 South Ridge Farms  Ext # 3629 - FAR-1826 South Ridge Farms  \n",
       "136  FAR-1826 South Ridge Farms  Ext # 3629 - FAR-1826 South Ridge Farms  \n",
       "137  FAR-1826 South Ridge Farms  Ext # 3629 - FAR-1826 South Ridge Farms  \n",
       "\n",
       "[138 rows x 7 columns]"
      ]
     },
     "execution_count": 11,
     "metadata": {},
     "output_type": "execute_result"
    }
   ],
   "source": [
    "selected_forecast_df = pd.DataFrame([\n",
    "    [3601, 'Since 2003'],\n",
    "    [3602, 'Since 2002'],\n",
    "    [3603, 'Since 2016'],\n",
    "    [3604, 'Since 2011'],\n",
    "    [3605, 'Since 2021'],\n",
    "    [3606, 'Since 2011'],\n",
    "    [3607, 'Since 2007'],\n",
    "    [3608, 'Since 2014'],\n",
    "    [3609, 'Since 2003'],\n",
    "    [3610, ''],\n",
    "    [3611, ''],\n",
    "    [3612, 'Since 2009'],\n",
    "    [3613, 'Since 2009'],\n",
    "    [3614, 'Since 2006'],\n",
    "    [3615, 'Since 2007'],\n",
    "    [3616, 'Since 2011'],\n",
    "    [3617, 'Since 2011'],\n",
    "    [3618, 'Since 2007'],\n",
    "    [3619, ''],\n",
    "    [3620, 'Since 2006'],\n",
    "    [3621, ''],\n",
    "    [3622, ''],\n",
    "    [3623, 'Since 2004'],\n",
    "    [3624, 'Since 2017'],\n",
    "    [3625, ''],\n",
    "    [3626, 'Since 2007'],\n",
    "    [3627, ''],\n",
    "    [3628, 'Since 2022'],\n",
    "    [3629, 'Since 2011']\n",
    "], columns=['externalid','PROJ_GRP'])\n",
    "\n",
    "linear_forecast_selected_df = pd.merge(selected_forecast_df, linear_forecast_df, on=['externalid','PROJ_GRP'])\n",
    "linear_forecast_selected_df"
   ]
  },
  {
   "cell_type": "code",
   "execution_count": 28,
   "metadata": {},
   "outputs": [],
   "source": [
    "# MAKE INTERACTIVE CHART\n",
    "\n",
    "# Create a dropdown widget for external selection\n",
    "external_widget = widgets.Dropdown(\n",
    "    options=linear_forecast_selected_df['external'].unique().tolist(),\n",
    "    description='external:',\n",
    "    disabled=False\n",
    ")\n",
    "\n",
    "# Display function\n",
    "def plot_data(external):\n",
    "\n",
    "    output.clear_output()\n",
    "    global firstTime\n",
    "   \n",
    "    if firstTime:\n",
    "        firstTime = False\n",
    "    else:\n",
    "        filteredlinear_forecast_selected_df = linear_forecast_selected_df[(linear_forecast_selected_df['external'] == external)]\n",
    "        filteredaadt_df = aadt_df[(aadt_df['external'] == external)]\n",
    "        filteredprevious_forecast_df = previous_forecasts_df[(previous_forecasts_df['external'] == external)]\n",
    "        fig = px.line(filteredlinear_forecast_selected_df, x='year', y='LIN_FORECAST', color='PROJ_GRP',\n",
    "                    title=f'Linear Forecast for {external}',\n",
    "                    labels={'LIN_FORECAST': 'AADT', 'year': 'Year'},\n",
    "                    markers=True) \n",
    "        fig.update_traces(line=dict(dash='dash'))\n",
    "        fig.update_traces(marker=dict(size=20))\n",
    "    \n",
    "        # Adding the scatter plot from dfHistoricAADT\n",
    "        fig.add_scatter(x=filteredaadt_df['year'], y=filteredaadt_df['AADT'], mode='markers', \n",
    "                        marker=dict(size=10, color='darkgrey', symbol='circle'), name='Historic AADT')\n",
    "        \n",
    "        fig.update_layout(height=500)\n",
    "        fig.update_xaxes(range=[1980, 2055+2])\n",
    "    \n",
    "        # Adding the scatter plot from dfHistoricAADT\n",
    "        fig.add_scatter(x=filteredprevious_forecast_df['year'], y=filteredprevious_forecast_df['AADT'], mode='markers', \n",
    "                        marker=dict(size=10, color='orange', symbol='circle'), name='v9.0 Forecast')\n",
    "\n",
    "        max_LinF = linear_forecast_selected_df[(linear_forecast_selected_df['external'] == external)]['LIN_FORECAST'].max()\n",
    "        max_Aadt = filteredaadt_df['AADT'].max()\n",
    "        overall_max = max(max_LinF, max_Aadt)\n",
    "        fig.update_yaxes(range=[0,overall_max+1000])\n",
    "\n",
    "        fig.show()"
   ]
  },
  {
   "cell_type": "code",
   "execution_count": 29,
   "metadata": {},
   "outputs": [
    {
     "data": {
      "application/vnd.jupyter.widget-view+json": {
       "model_id": "9c3927d18d6a4e7d8b2bfd79b7e99252",
       "version_major": 2,
       "version_minor": 0
      },
      "text/plain": [
       "HBox(children=(Dropdown(description='external:', options=('Ext # 3601 - FAR-1082 Bird Refuge', 'Ext # 3602 - S…"
      ]
     },
     "metadata": {},
     "output_type": "display_data"
    },
    {
     "data": {
      "application/vnd.jupyter.widget-view+json": {
       "model_id": "7854f2499bb3414eb6f6707943be9992",
       "version_major": 2,
       "version_minor": 0
      },
      "text/plain": [
       "Output()"
      ]
     },
     "metadata": {},
     "output_type": "display_data"
    },
    {
     "data": {
      "application/vnd.jupyter.widget-view+json": {
       "model_id": "6d18e697ad3e46d8bdaaf11503be4f6f",
       "version_major": 2,
       "version_minor": 0
      },
      "text/plain": [
       "Output()"
      ]
     },
     "metadata": {},
     "output_type": "display_data"
    }
   ],
   "source": [
    "manual_adj_df = pd.DataFrame([\n",
    "    [3616, 20]\n",
    "])\n",
    "\n",
    "# to keep VS CODE from duplicating chart images use global firstTime\n",
    "firstTime = True\n",
    "\n",
    "# create output widget to display filtered DataFrame\n",
    "output = widgets.Output()\n",
    "hbox = widgets.HBox([external_widget])\n",
    "\n",
    "# create interactive widget\n",
    "interactive_output = widgets.interactive_output(plot_data, {'external': external_widget})\n",
    "\n",
    "# Display a markdown heading\n",
    "display(hbox)\n",
    "display(interactive_output)\n",
    "display(output)"
   ]
  }
 ],
 "metadata": {
  "kernelspec": {
   "display_name": "march2024",
   "language": "python",
   "name": "python3"
  },
  "language_info": {
   "codemirror_mode": {
    "name": "ipython",
    "version": 3
   },
   "file_extension": ".py",
   "mimetype": "text/x-python",
   "name": "python",
   "nbconvert_exporter": "python",
   "pygments_lexer": "ipython3",
   "version": "3.9.19"
  },
  "orig_nbformat": 4
 },
 "nbformat": 4,
 "nbformat_minor": 2
}
